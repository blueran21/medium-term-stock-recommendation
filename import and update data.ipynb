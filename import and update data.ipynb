{
 "cells": [
  {
   "cell_type": "code",
   "execution_count": null,
   "id": "e13621ca",
   "metadata": {},
   "outputs": [],
   "source": [
    "import requests\n",
    "import bs4 as bs\n",
    "from datetime import datetime\n",
    "from datetime import timedelta \n",
    "import pandas_datareader.data as web\n",
    "import os\n",
    "import pandas as pd\n",
    "import time\n",
    "import numpy as np"
   ]
  },
  {
   "cell_type": "code",
   "execution_count": null,
   "id": "58390291",
   "metadata": {},
   "outputs": [],
   "source": [
    "def import_sp500():\n",
    "    req = requests.get('https://en.wikipedia.org/wiki/List_of_S%26P_500_companies#S.26P_500_Component_Stocks')\n",
    "    soup = bs.BeautifulSoup(req.text)\n",
    "    table = soup.find('table',{'class':'wikitable sortable'})\n",
    "    symbols = []\n",
    "    for company in table.findAll('tr')[1:]:\n",
    "        symbol = company.findAll('td')[0].get_text()\n",
    "        symbols.append(symbol.strip())\n",
    "    return symbols"
   ]
  },
  {
   "cell_type": "code",
   "execution_count": null,
   "id": "952b43eb",
   "metadata": {},
   "outputs": [],
   "source": [
    "symbols = []\n",
    "for x in import_sp500():\n",
    "    symbols.append(x.replace('.','-'))"
   ]
  },
  {
   "cell_type": "code",
   "execution_count": null,
   "id": "75251216",
   "metadata": {},
   "outputs": [],
   "source": [
    "# get stock price from 2000-01-01 and updated daily\n",
    "def get_stock_price(symbols):\n",
    "    for symbol in symbols:\n",
    "        #time.sleep(3)\n",
    "        if os.path.exists('data/{}.csv'.format(symbol)):\n",
    "            df = pd.read_csv('data/{}.csv'.format(symbol), usecols = ['Date'])\n",
    "            last_date = df.iloc[-1]['Date']\n",
    "            last_date_yymmdd = datetime.strptime(last_date, '%Y-%m-%d')\n",
    "            new_date = last_date_yymmdd + timedelta(days = 1)\n",
    "            new_start = datetime(new_date.year, new_date.month, new_date.day)\n",
    "            # print()\n",
    "            if new_start < datetime.now():\n",
    "                df_add = web.DataReader(symbol, 'yahoo', new_start, datetime.now())\n",
    "                with open('data/{}.csv'.format(symbol), 'a') as f:\n",
    "                    df_add.to_csv(f, header=False)\n",
    "        else:\n",
    "            start = datetime(2000, 1, 1)\n",
    "            df = web.DataReader(symbol, 'yahoo', start, datetime.now())\n",
    "            df.to_csv('data/{}.csv'.format(symbol))"
   ]
  },
  {
   "cell_type": "code",
   "execution_count": null,
   "id": "01eaaa90",
   "metadata": {},
   "outputs": [],
   "source": [
    "get_stock_price(symbols)"
   ]
  }
 ],
 "metadata": {
  "kernelspec": {
   "display_name": "Python 3 (ipykernel)",
   "language": "python",
   "name": "python3"
  },
  "language_info": {
   "codemirror_mode": {
    "name": "ipython",
    "version": 3
   },
   "file_extension": ".py",
   "mimetype": "text/x-python",
   "name": "python",
   "nbconvert_exporter": "python",
   "pygments_lexer": "ipython3",
   "version": "3.10.6"
  }
 },
 "nbformat": 4,
 "nbformat_minor": 5
}
