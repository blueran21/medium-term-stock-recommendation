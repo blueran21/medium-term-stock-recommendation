{
 "cells": [
  {
   "cell_type": "code",
   "execution_count": 1,
   "metadata": {},
   "outputs": [
    {
     "name": "stderr",
     "output_type": "stream",
     "text": [
      "Using TensorFlow backend.\n"
     ]
    }
   ],
   "source": [
    "from stockprediction import Stockprediction\n",
    "from multiprocessing import Pool\n",
    "from multiprocessing import Process\n",
    "from symbols_utils import Symbols_utils"
   ]
  },
  {
   "cell_type": "code",
   "execution_count": 2,
   "metadata": {},
   "outputs": [],
   "source": [
    "def symbolProcess(symbol):\n",
    "    stock = Stockprediction(symbol, 5, 60, 60, 20, 200)\n",
    "    stock.calculate()"
   ]
  },
  {
   "cell_type": "code",
   "execution_count": 3,
   "metadata": {},
   "outputs": [],
   "source": [
    "#divide samples into sublist with length of n\n",
    "def divide_chunks(symbols, n): \n",
    "    for i in range(0, len(symbols), n):\n",
    "        yield symbols[i:i + n]"
   ]
  },
  {
   "cell_type": "code",
   "execution_count": 4,
   "metadata": {},
   "outputs": [],
   "source": [
    "# def processSymbols(symbols):\n",
    "#     for symbol in symbols:\n",
    "#         p = Process(target=symbolProcess, args=(symbol,))\n",
    "#         p.start()\n",
    "#         p.join()"
   ]
  },
  {
   "cell_type": "code",
   "execution_count": 5,
   "metadata": {},
   "outputs": [],
   "source": [
    "if __name__== \"__main__\":\n",
    "    symbols = Symbols_utils.symbols\n",
    "    \n",
    "    symbol_chunks = list(divide_chunks(symbols, 5))\n",
    "        \n",
    "    for chunk in symbol_chunks:\n",
    "        with Pool(len(chunk)) as mp:\n",
    "            mp.map(symbolProcess, chunk)"
   ]
  },
  {
   "cell_type": "code",
   "execution_count": 6,
   "metadata": {},
   "outputs": [],
   "source": [
    "#     for symbol in symbols:\n",
    "#         p = Process(target=symbolProcess, args=(symbol,))\n",
    "#         p.start()\n",
    "#         p.join()"
   ]
  },
  {
   "cell_type": "code",
   "execution_count": null,
   "metadata": {},
   "outputs": [],
   "source": []
  }
 ],
 "metadata": {
  "kernelspec": {
   "display_name": "Python 3 (ipykernel)",
   "language": "python",
   "name": "python3"
  },
  "language_info": {
   "codemirror_mode": {
    "name": "ipython",
    "version": 3
   },
   "file_extension": ".py",
   "mimetype": "text/x-python",
   "name": "python",
   "nbconvert_exporter": "python",
   "pygments_lexer": "ipython3",
   "version": "3.10.6"
  }
 },
 "nbformat": 4,
 "nbformat_minor": 2
}
